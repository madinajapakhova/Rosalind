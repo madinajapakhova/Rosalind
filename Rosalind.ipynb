{
 "cells": [
  {
   "cell_type": "markdown",
   "id": "f213a5f4-b0b0-4bf1-b42d-5c63684155db",
   "metadata": {},
   "source": [
    "### Computing GC Content   \n",
    "See https://rosalind.info/problems/gc/"
   ]
  },
  {
   "cell_type": "code",
   "execution_count": 12,
   "id": "a2f3b831-f8f0-4c58-9470-31ec3ed147e5",
   "metadata": {},
   "outputs": [],
   "source": [
    "from Bio import SeqIO # from Biopython"
   ]
  },
  {
   "cell_type": "code",
   "execution_count": 52,
   "id": "a681c9e9-6e32-47d5-85d1-8070f7d600f1",
   "metadata": {
    "scrolled": true
   },
   "outputs": [
    {
     "data": {
      "text/plain": [
       "37.5"
      ]
     },
     "execution_count": 52,
     "metadata": {},
     "output_type": "execute_result"
    }
   ],
   "source": [
    "example=\"AGCTATAG\" \n",
    "\n",
    "def compute_GC_content(seq):\n",
    "    \n",
    "    counter = 0\n",
    "    for i in seq:\n",
    "        if i==\"G\" or i == \"C\":\n",
    "            counter+=1 \n",
    "    gc_content_percent = counter/len(seq) * 100\n",
    "\n",
    "    return gc_content_percent\n",
    "\n",
    "compute_GC_content(example)"
   ]
  },
  {
   "cell_type": "markdown",
   "id": "7c54a686-3840-44aa-8930-b199f3e5c624",
   "metadata": {},
   "source": [
    "### Solution"
   ]
  },
  {
   "cell_type": "code",
   "execution_count": 50,
   "id": "f14b374e-fe40-41a7-99e3-b3219947420b",
   "metadata": {},
   "outputs": [],
   "source": [
    "# store sequence file as a dictionary for easy lookup seqid-sequence\n",
    "# see section 5.4 in http://biopython.org/DIST/docs/tutorial/Tutorial.html#sec%3Aseqio_todict \n",
    "\n",
    "def gc_content_fasta_file(fasta_file):\n",
    "    seq_dict = SeqIO.to_dict(SeqIO.parse(fasta_file, \"fasta\"))\n",
    "    ids_list = []\n",
    "    gc_content_list = []\n",
    "\n",
    "    for key in seq_dict:\n",
    "        gc_content = compute_GC_content(seq_dict[key].seq)\n",
    "        ids_list.append(key)\n",
    "        gc_content_list.append(gc_content)\n",
    "\n",
    "    gc_content_dict = dict(zip(ids_list, gc_content_list))\n",
    "    maximum = max(gc_content_dict, key=gc_content_dict.get)\n",
    "\n",
    "    return(maximum, gc_content_dict[maximum])"
   ]
  },
  {
   "cell_type": "code",
   "execution_count": 51,
   "id": "af678acf-293d-433a-8586-ec31a95e4980",
   "metadata": {},
   "outputs": [
    {
     "data": {
      "text/plain": [
       "('Rosalind_0808', 60.91954022988506)"
      ]
     },
     "execution_count": 51,
     "metadata": {},
     "output_type": "execute_result"
    }
   ],
   "source": [
    "gc_content_fasta_file(\"rosalind.fasta\")"
   ]
  },
  {
   "cell_type": "markdown",
   "id": "9058bf10-1f26-4a3d-b065-21724fef138a",
   "metadata": {},
   "source": [
    "### Counting point mutations   \n",
    "See https://rosalind.info/problems/hamm/\n"
   ]
  },
  {
   "cell_type": "markdown",
   "id": "e581f31e-1dbf-485e-9974-f5845559f54b",
   "metadata": {},
   "source": [
    "### Solution"
   ]
  },
  {
   "cell_type": "code",
   "execution_count": 2,
   "id": "c0e9fe9a-4569-418f-9dd8-4e4abd4232ce",
   "metadata": {},
   "outputs": [
    {
     "name": "stdout",
     "output_type": "stream",
     "text": [
      "Hamming distance between GAGCCTACTAACGGGAT and CATCGTAATGACGGCCT is 7\n"
     ]
    }
   ],
   "source": [
    "#@title Solution: Implementing the Hamming distance { display-mode: \"code\" }\n",
    "a = \"GAGCCTACTAACGGGAT\" #@param {type:\"string\"}\n",
    "b = \"CATCGTAATGACGGCCT\" #@param {type:\"string\"}\n",
    "\n",
    "def hamming_distance(string1, string2):\n",
    "\n",
    "  \"\"\"\n",
    "\n",
    "  Input:\n",
    "    string1:\n",
    "    string2:\n",
    "\n",
    "  Returns: the Hamming distance score\n",
    "\n",
    "  \"\"\"\n",
    "  # initialize the distance score\n",
    "  score = 0\n",
    "\n",
    "  # check if the Hamming distance can be used to compare the strings\n",
    "  # if yes, compute the distance\n",
    "  # if no, return a statement that the Hamming distance can not be applied\n",
    "  if len(string1) == len(string2):\n",
    "    for chr1, chr2 in zip(string1, string2):\n",
    "      if chr1 != chr2:\n",
    "        score += 1\n",
    "      else:\n",
    "        score += 0\n",
    "    return score\n",
    "\n",
    "  else:\n",
    "    return \"Length of strings are not equal. The Hamming distance can not be applied\"\n",
    "\n",
    "print(\"Hamming distance between %s and %s is %d\"%(a,b,hamming_distance(a, b)))"
   ]
  },
  {
   "cell_type": "markdown",
   "id": "f843e512-e528-4bd4-8499-a8ba6e2e5ba4",
   "metadata": {},
   "source": [
    "### Solution in two lines"
   ]
  },
  {
   "cell_type": "code",
   "execution_count": 3,
   "id": "33968319-fc5e-43ee-866d-6ced4bdaa0c7",
   "metadata": {},
   "outputs": [
    {
     "name": "stdout",
     "output_type": "stream",
     "text": [
      "Hamming distance between GAGCCTACTAACGGGAT and CATCGTAATGACGGCCT is 7\n"
     ]
    }
   ],
   "source": [
    "#@title Solution in two lines: Implememnting the Hamming distance {display-mode: \"code\"}\n",
    "def hamming_distance2(string1, string2):\n",
    "    return sum(chr1 != chr2 for chr1, chr2 in zip(string1, string2))\n",
    "\n",
    "print(\"Hamming distance between %s and %s is %d\"%(a,b,hamming_distance2(a, b)))"
   ]
  }
 ],
 "metadata": {
  "kernelspec": {
   "display_name": "Python 3 (ipykernel)",
   "language": "python",
   "name": "python3"
  },
  "language_info": {
   "codemirror_mode": {
    "name": "ipython",
    "version": 3
   },
   "file_extension": ".py",
   "mimetype": "text/x-python",
   "name": "python",
   "nbconvert_exporter": "python",
   "pygments_lexer": "ipython3",
   "version": "3.11.7"
  }
 },
 "nbformat": 4,
 "nbformat_minor": 5
}
