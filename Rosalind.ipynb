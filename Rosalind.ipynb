{
 "cells": [
  {
   "cell_type": "markdown",
   "id": "f213a5f4-b0b0-4bf1-b42d-5c63684155db",
   "metadata": {},
   "source": [
    "### Computing GC Content   \n",
    "See https://rosalind.info/problems/gc/"
   ]
  },
  {
   "cell_type": "code",
   "execution_count": 12,
   "id": "a2f3b831-f8f0-4c58-9470-31ec3ed147e5",
   "metadata": {},
   "outputs": [],
   "source": [
    "from Bio import SeqIO # from Biopython"
   ]
  },
  {
   "cell_type": "code",
   "execution_count": 52,
   "id": "a681c9e9-6e32-47d5-85d1-8070f7d600f1",
   "metadata": {
    "scrolled": true
   },
   "outputs": [
    {
     "data": {
      "text/plain": [
       "37.5"
      ]
     },
     "execution_count": 52,
     "metadata": {},
     "output_type": "execute_result"
    }
   ],
   "source": [
    "example=\"AGCTATAG\" \n",
    "\n",
    "def compute_GC_content(seq):\n",
    "    \n",
    "    counter = 0\n",
    "    for i in seq:\n",
    "        if i==\"G\" or i == \"C\":\n",
    "            counter+=1 \n",
    "    gc_content_percent = counter/len(seq) * 100\n",
    "\n",
    "    return gc_content_percent\n",
    "\n",
    "compute_GC_content(example)"
   ]
  },
  {
   "cell_type": "markdown",
   "id": "7c54a686-3840-44aa-8930-b199f3e5c624",
   "metadata": {},
   "source": [
    "### Solution"
   ]
  },
  {
   "cell_type": "code",
   "execution_count": 50,
   "id": "f14b374e-fe40-41a7-99e3-b3219947420b",
   "metadata": {},
   "outputs": [],
   "source": [
    "# store sequence file as a dictionary for easy lookup seqid-sequence\n",
    "# see section 5.4 in http://biopython.org/DIST/docs/tutorial/Tutorial.html#sec%3Aseqio_todict \n",
    "\n",
    "def gc_content_fasta_file(fasta_file):\n",
    "    seq_dict = SeqIO.to_dict(SeqIO.parse(fasta_file, \"fasta\"))\n",
    "    ids_list = []\n",
    "    gc_content_list = []\n",
    "\n",
    "    for key in seq_dict:\n",
    "        gc_content = compute_GC_content(seq_dict[key].seq)\n",
    "        ids_list.append(key)\n",
    "        gc_content_list.append(gc_content)\n",
    "\n",
    "    gc_content_dict = dict(zip(ids_list, gc_content_list))\n",
    "    maximum = max(gc_content_dict, key=gc_content_dict.get)\n",
    "\n",
    "    return(maximum, gc_content_dict[maximum])"
   ]
  },
  {
   "cell_type": "code",
   "execution_count": 51,
   "id": "af678acf-293d-433a-8586-ec31a95e4980",
   "metadata": {},
   "outputs": [
    {
     "data": {
      "text/plain": [
       "('Rosalind_0808', 60.91954022988506)"
      ]
     },
     "execution_count": 51,
     "metadata": {},
     "output_type": "execute_result"
    }
   ],
   "source": [
    "gc_content_fasta_file(\"rosalind.fasta\")"
   ]
  }
 ],
 "metadata": {
  "kernelspec": {
   "display_name": "Python 3 (ipykernel)",
   "language": "python",
   "name": "python3"
  },
  "language_info": {
   "codemirror_mode": {
    "name": "ipython",
    "version": 3
   },
   "file_extension": ".py",
   "mimetype": "text/x-python",
   "name": "python",
   "nbconvert_exporter": "python",
   "pygments_lexer": "ipython3",
   "version": "3.11.7"
  }
 },
 "nbformat": 4,
 "nbformat_minor": 5
}
